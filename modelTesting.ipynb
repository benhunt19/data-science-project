{
 "cells": [
  {
   "cell_type": "code",
   "execution_count": 5,
   "metadata": {},
   "outputs": [],
   "source": [
    "# Data manipulation / cleaning\n",
    "import pandas as pd\n",
    "import numpy as np\n",
    "\n",
    "# Plotting\n",
    "import matplotlib.pyplot as plt\n",
    "import plotly.graph_objects as go\n",
    "import seaborn as sns\n",
    "\n",
    "# Deep learning\n",
    "import torch\n",
    "import torch.nn as nn\n"
   ]
  },
  {
   "cell_type": "code",
   "execution_count": 6,
   "metadata": {},
   "outputs": [
    {
     "name": "stdout",
     "output_type": "stream",
     "text": [
      "Help on class Model in module src.model:\n",
      "\n",
      "class Model(builtins.object)\n",
      " |  Model(network_meta: list[dict], useGPU=False) -> None\n",
      " |\n",
      " |  Description:\n",
      " |  Highly cusomisable pytorch neural network!\n",
      " |\n",
      " |  Methods defined here:\n",
      " |\n",
      " |  __init__(self, network_meta: list[dict], useGPU=False) -> None\n",
      " |      Description:\n",
      " |      Initalise the model and corresponding layers based on the passed in network meta\n",
      " |\n",
      " |      params:\n",
      " |      network_meta (list[dict]): The shape of the neural network eg.\n",
      " |      [\n",
      " |          {\n",
      " |              'neurons': 2 # input layer / input dimension\n",
      " |          },\n",
      " |          {\n",
      " |              'neurons': 30,\n",
      " |              'activation': nn.ReLU,\n",
      " |              'type': nn.Linear\n",
      " |          },\n",
      " |          ...\n",
      " |          {\n",
      " |              'neurons': 1,\n",
      " |              'activation': nn.ReLU,\n",
      " |              'type': nn.Linear\n",
      " |          }\n",
      " |      ]\n",
      " |\n",
      " |  __str__(self)\n",
      " |      Description:\n",
      " |      Magic method to print a summary of the model's architecture\n",
      " |\n",
      " |  data_to_device(self, x, y)\n",
      " |      Description:\n",
      " |      Add datasets to GPU if there is one\n",
      " |\n",
      " |  data_to_tensor(self, x, y)\n",
      " |      Description:\n",
      " |      Change data from a numpy ndarray to a torch tensor\n",
      " |\n",
      " |  test(self, x_test, y_test) -> None\n",
      " |      Test the model on training data\n",
      " |\n",
      " |  train(self, x_train, y_train, n_epochs=10, learning_rate=0.01, loss_fn=MSELoss(), optimizer=<class 'torch.optim.adam.Adam'>) -> None\n",
      " |      Description:\n",
      " |      Train the model on the training data\n",
      " |\n",
      " |  ----------------------------------------------------------------------\n",
      " |  Data descriptors defined here:\n",
      " |\n",
      " |  __dict__\n",
      " |      dictionary for instance variables\n",
      " |\n",
      " |  __weakref__\n",
      " |      list of weak references to the object\n",
      "\n"
     ]
    }
   ],
   "source": [
    "# Local neural network model\n",
    "from src.model import Model\n",
    "help(Model)"
   ]
  },
  {
   "cell_type": "code",
   "execution_count": 7,
   "metadata": {},
   "outputs": [],
   "source": [
    "# Import global constants\n",
    "from src.globals import (\n",
    "    DATA_FOLDER,\n",
    "    CLEAN_FOLDER,\n",
    "    CLEAN_SUFFIX,\n",
    "    WELLS_CSV,\n",
    "    AD_HOC_WELLS_CSV,\n",
    "    ASSETS_FOLDER,\n",
    ")"
   ]
  },
  {
   "cell_type": "code",
   "execution_count": 8,
   "metadata": {},
   "outputs": [
    {
     "name": "stderr",
     "output_type": "stream",
     "text": [
      "C:\\Users\\benhu\\AppData\\Local\\Temp\\ipykernel_17588\\2925836011.py:2: DtypeWarning: Columns (1,7) have mixed types. Specify dtype option on import or set low_memory=False.\n",
      "  wells_df = pd.read_csv(f'{CLEAN_FOLDER}/{WELLS_CSV + CLEAN_SUFFIX}.csv');\n"
     ]
    },
    {
     "name": "stdout",
     "output_type": "stream",
     "text": [
      "torch.Size([10000, 2])\n",
      "torch.Size([10000])\n"
     ]
    }
   ],
   "source": [
    "# Import clean data\n",
    "wells_df = pd.read_csv(f'{CLEAN_FOLDER}/{WELLS_CSV + CLEAN_SUFFIX}.csv');\n",
    "\n",
    "# Sample data\n",
    "sample = wells_df.sample(10_000).copy().reset_index()\n",
    "X_raw = sample[['surface_latitude', 'surface_longitude']]\n",
    "y_raw = sample['final_td']\n",
    "\n",
    "X_train = (X_raw - X_raw.mean()) / X_raw.std()\n",
    "y_train = (y_raw - y_raw.mean()) / y_raw.std()\n",
    "\n",
    "X_train = torch.FloatTensor(X_train.values)\n",
    "y_train = torch.FloatTensor(y_train.values)\n",
    "\n",
    "print(X_train.shape)\n",
    "print(y_train.shape)\n"
   ]
  },
  {
   "cell_type": "code",
   "execution_count": 9,
   "metadata": {},
   "outputs": [
    {
     "name": "stdout",
     "output_type": "stream",
     "text": [
      "Using device: cpu\n"
     ]
    }
   ],
   "source": [
    "# Define the model meta and create instance of model\n",
    "network_meta = [\n",
    "        {\n",
    "            'neurons': 2 # input layer / input dimension\n",
    "        },\n",
    "        {\n",
    "            'neurons': 10,\n",
    "            'activation': nn.ReLU,\n",
    "            'type': nn.Linear\n",
    "        },\n",
    "        {\n",
    "            'neurons': 10,\n",
    "            'activation': nn.ReLU,\n",
    "            'type': nn.Linear\n",
    "        },\n",
    "        {\n",
    "            'neurons': 1,\n",
    "            'activation': None,\n",
    "            # 'activation': nn.ReLU,\n",
    "            'type': nn.Linear\n",
    "        },\n",
    "    ]\n",
    "    \n",
    "m = Model(network_meta)"
   ]
  },
  {
   "cell_type": "code",
   "execution_count": 10,
   "metadata": {},
   "outputs": [
    {
     "name": "stderr",
     "output_type": "stream",
     "text": [
      "c:\\Users\\benhu\\UCL\\Term 2\\Data Science COMP0047\\data-science-project\\Lib\\site-packages\\torch\\nn\\modules\\loss.py:610: UserWarning: Using a target size (torch.Size([1024])) that is different to the input size (torch.Size([1024, 1])). This will likely lead to incorrect results due to broadcasting. Please ensure they have the same size.\n",
      "  return F.mse_loss(input, target, reduction=self.reduction)\n",
      "c:\\Users\\benhu\\UCL\\Term 2\\Data Science COMP0047\\data-science-project\\Lib\\site-packages\\torch\\nn\\modules\\loss.py:610: UserWarning: Using a target size (torch.Size([784])) that is different to the input size (torch.Size([784, 1])). This will likely lead to incorrect results due to broadcasting. Please ensure they have the same size.\n",
      "  return F.mse_loss(input, target, reduction=self.reduction)\n"
     ]
    },
    {
     "name": "stdout",
     "output_type": "stream",
     "text": [
      "Epoch 1/10, Loss: nan\n",
      "Epoch 2/10, Loss: nan\n",
      "Epoch 3/10, Loss: nan\n",
      "Epoch 4/10, Loss: nan\n",
      "Epoch 5/10, Loss: nan\n",
      "Epoch 6/10, Loss: nan\n",
      "Epoch 7/10, Loss: nan\n",
      "Epoch 8/10, Loss: nan\n",
      "Epoch 9/10, Loss: nan\n",
      "Epoch 10/10, Loss: nan\n",
      "Testing data...\n",
      "nan\n",
      "Model architecture:\n",
      "Layer 0: Linear(in_features=2, out_features=10, bias=True)\n",
      "Layer 1: ReLU()\n",
      "Layer 2: Linear(in_features=10, out_features=10, bias=True)\n",
      "Layer 3: ReLU()\n",
      "Layer 4: Linear(in_features=10, out_features=1, bias=True)\n"
     ]
    },
    {
     "name": "stderr",
     "output_type": "stream",
     "text": [
      "c:\\Users\\benhu\\UCL\\Term 2\\Data Science COMP0047\\data-science-project\\Lib\\site-packages\\torch\\nn\\modules\\loss.py:610: UserWarning: Using a target size (torch.Size([10000])) that is different to the input size (torch.Size([10000, 1])). This will likely lead to incorrect results due to broadcasting. Please ensure they have the same size.\n",
      "  return F.mse_loss(input, target, reduction=self.reduction)\n"
     ]
    }
   ],
   "source": [
    "train = True\n",
    "epoch = 10\n",
    "test = True\n",
    "\n",
    "if train:\n",
    "    m.train(\n",
    "        x_train=X_train,\n",
    "        y_train=y_train,\n",
    "        n_epochs=epoch,\n",
    "        loss_fn=nn.MSELoss()\n",
    "    )\n",
    "\n",
    "if test:\n",
    "    m.test(\n",
    "        x_test=X_train,\n",
    "        y_test=y_train\n",
    "    )\n",
    "\n",
    "print(m)"
   ]
  }
 ],
 "metadata": {
  "kernelspec": {
   "display_name": "data-science-project",
   "language": "python",
   "name": "python3"
  },
  "language_info": {
   "codemirror_mode": {
    "name": "ipython",
    "version": 3
   },
   "file_extension": ".py",
   "mimetype": "text/x-python",
   "name": "python",
   "nbconvert_exporter": "python",
   "pygments_lexer": "ipython3",
   "version": "3.12.1"
  }
 },
 "nbformat": 4,
 "nbformat_minor": 2
}
