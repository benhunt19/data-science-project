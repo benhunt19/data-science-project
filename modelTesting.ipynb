{
 "cells": [
  {
   "cell_type": "code",
   "execution_count": 47,
   "metadata": {},
   "outputs": [],
   "source": [
    "# Data manipulation / cleaning\n",
    "import pandas as pd\n",
    "import numpy as np\n",
    "\n",
    "# Plotting\n",
    "import matplotlib.pyplot as plt\n",
    "import plotly.graph_objects as go\n",
    "import seaborn as sns\n",
    "\n",
    "# Deep learning\n",
    "import torch\n",
    "import torch.nn as nn\n",
    "\n",
    "# Local neural network model\n",
    "from src.model import Model"
   ]
  },
  {
   "cell_type": "code",
   "execution_count": 48,
   "metadata": {},
   "outputs": [],
   "source": [
    "# Import global constants\n",
    "from src.globals import (\n",
    "    DATA_FOLDER,\n",
    "    CLEAN_FOLDER,\n",
    "    CLEAN_SUFFIX,\n",
    "    WELLS_CSV,\n",
    "    AD_HOC_WELLS_CSV,\n",
    "    ASSETS_FOLDER,\n",
    ")"
   ]
  },
  {
   "cell_type": "code",
   "execution_count": 49,
   "metadata": {},
   "outputs": [
    {
     "name": "stderr",
     "output_type": "stream",
     "text": [
      "C:\\Users\\benhu\\AppData\\Local\\Temp\\ipykernel_26812\\537840772.py:2: DtypeWarning: Columns (1,7) have mixed types. Specify dtype option on import or set low_memory=False.\n",
      "  wells_df = pd.read_csv(f'{CLEAN_FOLDER}/{WELLS_CSV + CLEAN_SUFFIX}.csv');\n"
     ]
    }
   ],
   "source": [
    "# Import clean data\n",
    "wells_df = pd.read_csv(f'{CLEAN_FOLDER}/{WELLS_CSV + CLEAN_SUFFIX}.csv');\n",
    "sample = wells_df.sample(100).copy().reset_index()\n",
    "X = sample[['surface_latitude', 'surface_longitude']]\n",
    "y = sample['final_td']\n",
    "# Normalize X\n",
    "X = (X - X.mean()) / X.std()\n",
    "# Also normalize y (will be used in later cells)\n",
    "y = (y - y.mean()) / y.std()"
   ]
  },
  {
   "cell_type": "code",
   "execution_count": 50,
   "metadata": {},
   "outputs": [
    {
     "name": "stdout",
     "output_type": "stream",
     "text": [
      "Using device: cuda\n"
     ]
    }
   ],
   "source": [
    "# Define the model meta and create instance of model\n",
    "network_meta = [\n",
    "        {\n",
    "            'neurons': 2 # input layer / input dimension\n",
    "        },\n",
    "        {\n",
    "            'neurons': 30,\n",
    "            'activation': nn.ReLU,\n",
    "            'type': nn.Linear\n",
    "        },\n",
    "        {\n",
    "            'neurons': 50,\n",
    "            'activation': nn.ReLU,\n",
    "            'type': nn.Linear\n",
    "        },\n",
    "        {\n",
    "            'neurons': 50,\n",
    "            'activation': nn.ReLU,\n",
    "            'type': nn.Linear\n",
    "        },\n",
    "        {\n",
    "            'neurons': 1,\n",
    "            'activation': None,\n",
    "            # 'activation': nn.ReLU,\n",
    "            'type': nn.Linear\n",
    "        },\n",
    "    ]\n",
    "    \n",
    "m = Model(network_meta)"
   ]
  },
  {
   "cell_type": "code",
   "execution_count": 53,
   "metadata": {},
   "outputs": [
    {
     "name": "stdout",
     "output_type": "stream",
     "text": [
      "Testing data...\n",
      "0.9905062317848206\n",
      "Model architecture:\n",
      "Layer 0: Linear(in_features=2, out_features=30, bias=True)\n",
      "Layer 1: ReLU()\n",
      "Layer 2: Linear(in_features=30, out_features=50, bias=True)\n",
      "Layer 3: ReLU()\n",
      "Layer 4: Linear(in_features=50, out_features=50, bias=True)\n",
      "Layer 5: ReLU()\n",
      "Layer 6: Linear(in_features=50, out_features=1, bias=True)\n"
     ]
    }
   ],
   "source": [
    "# x_train = torch.FloatTensor([[1,2], [3,4]])\n",
    "# y_train = torch.FloatTensor([6, 4])\n",
    "\n",
    "x_train = torch.FloatTensor(X.values)\n",
    "y_train = torch.FloatTensor(y.values)\n",
    "# print(x_train)\n",
    "# print(y_train)\n",
    "\n",
    "train = True\n",
    "test = True\n",
    "\n",
    "if train:\n",
    "    m.train(\n",
    "        x_train=x_train,\n",
    "        y_train=y_train,\n",
    "        n_epochs=1\n",
    "    )\n",
    "\n",
    "if test:\n",
    "    m.test(\n",
    "        x_test=x_train,\n",
    "        y_test=y_train\n",
    "    )\n",
    "\n",
    "print(m)"
   ]
  }
 ],
 "metadata": {
  "kernelspec": {
   "display_name": "data-science-project",
   "language": "python",
   "name": "python3"
  },
  "language_info": {
   "codemirror_mode": {
    "name": "ipython",
    "version": 3
   },
   "file_extension": ".py",
   "mimetype": "text/x-python",
   "name": "python",
   "nbconvert_exporter": "python",
   "pygments_lexer": "ipython3",
   "version": "3.12.1"
  }
 },
 "nbformat": 4,
 "nbformat_minor": 2
}
